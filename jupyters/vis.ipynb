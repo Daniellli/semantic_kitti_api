{
 "cells": [
  {
   "cell_type": "code",
   "execution_count": 1,
   "metadata": {},
   "outputs": [],
   "source": [
    "\n",
    "\n",
    "import os \n",
    "\n",
    "\n",
    "from os.path import join, split,exists, isdir,isfile\n",
    "\n",
    "file_root =  join(os.getcwd(),'..')\n",
    "os.chdir(file_root)\n",
    "\n",
    "from utils.pc_utils import *"
   ]
  },
  {
   "cell_type": "code",
   "execution_count": 15,
   "metadata": {},
   "outputs": [],
   "source": [
    "from utils import * \n",
    "\n",
    "\n",
    "from utils.utils import * "
   ]
  },
  {
   "cell_type": "code",
   "execution_count": 24,
   "metadata": {},
   "outputs": [],
   "source": [
    "import numpy as np \n",
    "\n",
    "\n",
    "class SementicKittiGtLoader:\n",
    "\n",
    "\n",
    "    def __init__(self,root,sequence='08'):\n",
    "        self.root = root\n",
    "        self.sequence = sequence\n",
    "\n",
    "        self.seq_root = join(self.root,'sequences',sequence)\n",
    "\n",
    "        self.label_path = join(self.seq_root,'labels')\n",
    "        self.labels = sorted([x for x in os.listdir(self.label_path ) if x.endswith('label')])\n",
    "        \n",
    "        self.times = np.loadtxt(join(self.seq_root,'times.txt'))\n",
    "        self.poses = np.loadtxt(join(self.seq_root,'poses.txt'))\n",
    "        # self.calib = np.loadtxt(join(self.seq_root,'calib.txt'),delimiter='\\n')\n",
    "\n",
    "\n",
    "        self.velodyne_path = join(self.seq_root,'velodyne')\n",
    "\n",
    "        self.velodynes =sorted( [x for x in os.listdir(self.velodyne_path) if x.endswith('bin')])\n",
    "\n",
    "        \n",
    "\n",
    "        \n",
    "\n",
    "\n",
    "    def __len__(self):\n",
    "        return len(self.labels)\n",
    "    \n",
    "\n",
    "    def get_label(self,idx):\n",
    "        print(self.labels[idx])\n",
    "        return np.fromfile(join(self.label_path,self.labels[idx]), dtype=np.uint32)\n",
    "    \n",
    "    def idx2name(self,idx):\n",
    "\n",
    "        return self.labels[idx].split('.')[0]\n",
    "    \n",
    "    def name2idx(self,name):\n",
    "        return self.labels.index(name+'.label')\n",
    "    \n",
    "\n",
    "    def get_velodyne(self,idx):\n",
    "        \n",
    "        print(self.velodynes[idx])\n",
    "\n",
    "        scan = np.fromfile(join(self.velodyne_path,self.velodynes[idx]), dtype=np.float32)\n",
    "        scan = scan.reshape((-1, 4))\n",
    "\n",
    "        # put in attribute\n",
    "        points = scan[:, 0:3]  # get xyz\n",
    "        remissions = scan[:, 3]  # get remission\n",
    "\n",
    "\n",
    "        return points,remissions\n",
    "\n",
    "        \n",
    "\n",
    "\n",
    "semantic_gt_loader = SementicKittiGtLoader(join(file_root,'../semantic_kitti/dataset'))"
   ]
  },
  {
   "cell_type": "code",
   "execution_count": 26,
   "metadata": {},
   "outputs": [
    {
     "name": "stdout",
     "output_type": "stream",
     "text": [
      "000000.label\n",
      "000000.bin\n"
     ]
    }
   ],
   "source": [
    "\n",
    "save_dir = 'logs/vis'\n",
    "make_dir(save_dir)\n",
    "\n",
    "label = semantic_gt_loader.get_label(0)\n",
    "pc,remission = semantic_gt_loader.get_velodyne(0)\n",
    "\n",
    "# name = semantic_gt_loader.idx2name(0)\n",
    "# semantic_gt_loader.name2idx(name)"
   ]
  },
  {
   "cell_type": "code",
   "execution_count": 20,
   "metadata": {},
   "outputs": [
    {
     "data": {
      "text/plain": [
       "((123389, 3), (123389,))"
      ]
     },
     "execution_count": 20,
     "metadata": {},
     "output_type": "execute_result"
    }
   ],
   "source": [
    "pc.shape,label.shape"
   ]
  },
  {
   "cell_type": "code",
   "execution_count": 58,
   "metadata": {},
   "outputs": [],
   "source": [
    "\n",
    "\n",
    "\n",
    "def gen_color_dict(labels):\n",
    "    unique_labels = np.unique(label)\n",
    "    res = {}\n",
    "    for l in unique_labels:\n",
    "        res[l] =np.random.randint(0,256,(3)).tolist()\n",
    "    return res\n",
    "\n",
    "def map_label_to_pc_color(labels,color_dict):\n",
    "    \n",
    "    \n",
    "    ans = []\n",
    "\n",
    "    for label  in labels:\n",
    "        ans.append(color_dict[label].copy())\n",
    "\n",
    "    return np.array(ans)\n",
    "\n",
    "        \n",
    "        \n",
    "# colors = map_label_to_pc_color(label,gen_color_dict(label))\n",
    "\n",
    "\n",
    "\n",
    "\n",
    "\n",
    "\n",
    "choices = np.random.randint(0,len(label),4000)\n",
    "pc = pc[choices]\n",
    "label = label[choices]\n",
    "\n",
    "# write_ply(pc,join(save_dir,semantic_gt_loader.idx2name(0)+\".ply\"))\n",
    "# print(len(np.unique(label)),label.max())\n",
    "write_ply_color(pc,label,filename=join(save_dir,semantic_gt_loader.idx2name(0)+\".ply\"))\n",
    "\n",
    "\n"
   ]
  },
  {
   "cell_type": "code",
   "execution_count": null,
   "metadata": {},
   "outputs": [],
   "source": []
  },
  {
   "cell_type": "code",
   "execution_count": 15,
   "metadata": {},
   "outputs": [
    {
     "name": "stdout",
     "output_type": "stream",
     "text": [
      "/data2/liyang/semantic_kitti_api-master/jupyters/../../semantic_kitti/predictions/sequences/08/ng/Open_world_3D_semantic_segmentation/runs/debug_original/model_epoch_30/point_predict/000000.label\n"
     ]
    }
   ],
   "source": [
    "\n",
    "data_root = join(file_root,'..','semantic_kitti')\n",
    "pred_dir = join(data_root,'predictions/sequences/08/ng/Open_world_3D_semantic_segmentation/runs/debug_original/model_epoch_30','point_predict')\n",
    "\n",
    "for l in os.listdir(pred_dir):\n",
    "    print(join(pred_dir,l))\n",
    "    break\n",
    "\n"
   ]
  },
  {
   "cell_type": "code",
   "execution_count": 16,
   "metadata": {},
   "outputs": [],
   "source": [
    "\n",
    "\n"
   ]
  },
  {
   "cell_type": "code",
   "execution_count": 18,
   "metadata": {},
   "outputs": [
    {
     "data": {
      "text/plain": [
       "(123389,)"
      ]
     },
     "execution_count": 18,
     "metadata": {},
     "output_type": "execute_result"
    }
   ],
   "source": [
    "data.shape"
   ]
  },
  {
   "cell_type": "code",
   "execution_count": 19,
   "metadata": {},
   "outputs": [
    {
     "data": {
      "text/plain": [
       "'000000.label'"
      ]
     },
     "execution_count": 19,
     "metadata": {},
     "output_type": "execute_result"
    }
   ],
   "source": [
    "l"
   ]
  },
  {
   "cell_type": "code",
   "execution_count": null,
   "metadata": {},
   "outputs": [],
   "source": []
  }
 ],
 "metadata": {
  "kernelspec": {
   "display_name": "yang_real",
   "language": "python",
   "name": "python3"
  },
  "language_info": {
   "codemirror_mode": {
    "name": "ipython",
    "version": 3
   },
   "file_extension": ".py",
   "mimetype": "text/x-python",
   "name": "python",
   "nbconvert_exporter": "python",
   "pygments_lexer": "ipython3",
   "version": "3.8.13"
  },
  "orig_nbformat": 4
 },
 "nbformat": 4,
 "nbformat_minor": 2
}
