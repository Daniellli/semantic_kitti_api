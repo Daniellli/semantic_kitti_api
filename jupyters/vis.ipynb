{
 "cells": [
  {
   "cell_type": "code",
   "execution_count": 2,
   "metadata": {},
   "outputs": [],
   "source": [
    "\n",
    "\n",
    "import os \n",
    "\n",
    "\n",
    "from os.path import join, split,exists, isdir,isfile\n",
    "\n",
    "file_root =  join(os.getcwd(),'..')\n",
    "os.chdir(file_root)\n",
    "\n",
    "from utils.pc_utils import *"
   ]
  },
  {
   "cell_type": "code",
   "execution_count": 3,
   "metadata": {},
   "outputs": [
    {
     "data": {
      "text/plain": [
       "'/data2/liyang/semantic_kitti_api-master/jupyters/..'"
      ]
     },
     "execution_count": 3,
     "metadata": {},
     "output_type": "execute_result"
    }
   ],
   "source": []
  },
  {
   "cell_type": "code",
   "execution_count": 12,
   "metadata": {},
   "outputs": [],
   "source": [
    "import numpy as np \n",
    "\n",
    "\n",
    "class SementicKittiGtLoader:\n",
    "\n",
    "\n",
    "    def __init__(self,root,sequence='08'):\n",
    "        self.root = root\n",
    "        self.sequence = sequence\n",
    "\n",
    "        self.seq_root = join(self.root,'sequences',sequence)\n",
    "\n",
    "        self.label_path = join(self.seq_root,'labels')\n",
    "        self.labels = sorted([x for x in os.listdir(self.label_path ) if x.endswith('label')])\n",
    "        \n",
    "        self.times = np.loadtxt(join(self.seq_root,'times.txt'))\n",
    "        self.poses = np.loadtxt(join(self.seq_root,'poses.txt'))\n",
    "        # self.calib = np.loadtxt(join(self.seq_root,'calib.txt'),delimiter='\\n')\n",
    "\n",
    "\n",
    "        self.velodyne_path = join(self.seq_root,'velodyne')\n",
    "\n",
    "        self.velodynes =sorted( [x for x in os.listdir(self.velodyne_path) if x.endswith('bin')])\n",
    "\n",
    "        \n",
    "\n",
    "        \n",
    "\n",
    "\n",
    "    def __len__(self):\n",
    "        return len(self.labels)\n",
    "    \n",
    "\n",
    "    def get_label(self,idx):\n",
    "        print(self.labels[idx])\n",
    "        return np.fromfile(join(self.label_path,self.labels[idx]), dtype=np.uint32)\n",
    "    \n",
    "    def get_velodyne(self,idx):\n",
    "        \n",
    "        print(self.velodynes[idx])\n",
    "        return join(self.velodyne_path,self.velodynes[idx])\n",
    "\n",
    "        \n",
    "\n",
    "\n",
    "semantic_gt_loader = SementicKittiGtLoader(join(file_root,'../semantic_kitti/dataset'))"
   ]
  },
  {
   "cell_type": "code",
   "execution_count": 13,
   "metadata": {},
   "outputs": [
    {
     "name": "stdout",
     "output_type": "stream",
     "text": [
      "000000.label\n",
      "000000.bin\n"
     ]
    }
   ],
   "source": [
    "label = semantic_gt_loader.get_label(0)\n",
    "pc = semantic_gt_loader.get_velodyne(0)"
   ]
  },
  {
   "cell_type": "code",
   "execution_count": 14,
   "metadata": {},
   "outputs": [
    {
     "ename": "UnicodeDecodeError",
     "evalue": "'ascii' codec can't decode byte 0x95 in position 5: ordinal not in range(128)",
     "output_type": "error",
     "traceback": [
      "\u001b[0;31m---------------------------------------------------------------------------\u001b[0m",
      "\u001b[0;31mUnicodeDecodeError\u001b[0m                        Traceback (most recent call last)",
      "Cell \u001b[0;32mIn[14], line 1\u001b[0m\n\u001b[0;32m----> 1\u001b[0m read_ply(pc)\n",
      "File \u001b[0;32m~/semantic_kitti_api-master/utils/pc_utils.py:195\u001b[0m, in \u001b[0;36mread_ply\u001b[0;34m(filename)\u001b[0m\n\u001b[1;32m    193\u001b[0m \u001b[39mdef\u001b[39;00m \u001b[39mread_ply\u001b[39m(filename):\n\u001b[1;32m    194\u001b[0m     \u001b[39m\"\"\" read XYZ point cloud from filename PLY file \"\"\"\u001b[39;00m\n\u001b[0;32m--> 195\u001b[0m     plydata \u001b[39m=\u001b[39m PlyData\u001b[39m.\u001b[39;49mread(filename)\n\u001b[1;32m    196\u001b[0m     pc \u001b[39m=\u001b[39m plydata[\u001b[39m'\u001b[39m\u001b[39mvertex\u001b[39m\u001b[39m'\u001b[39m]\u001b[39m.\u001b[39mdata\n\u001b[1;32m    197\u001b[0m     pc_array \u001b[39m=\u001b[39m np\u001b[39m.\u001b[39marray([[x, y, z] \u001b[39mfor\u001b[39;00m x,y,z \u001b[39min\u001b[39;00m pc])\n",
      "File \u001b[0;32m~/anaconda3/envs/yang_real/lib/python3.8/site-packages/plyfile.py:403\u001b[0m, in \u001b[0;36mPlyData.read\u001b[0;34m(stream, mmap, known_list_len)\u001b[0m\n\u001b[1;32m    401\u001b[0m (must_close, stream) \u001b[39m=\u001b[39m _open_stream(stream, \u001b[39m'\u001b[39m\u001b[39mread\u001b[39m\u001b[39m'\u001b[39m)\n\u001b[1;32m    402\u001b[0m \u001b[39mtry\u001b[39;00m:\n\u001b[0;32m--> 403\u001b[0m     data \u001b[39m=\u001b[39m PlyData\u001b[39m.\u001b[39;49m_parse_header(stream)\n\u001b[1;32m    404\u001b[0m     \u001b[39mfor\u001b[39;00m elt \u001b[39min\u001b[39;00m data:\n\u001b[1;32m    405\u001b[0m         elt\u001b[39m.\u001b[39m_read(stream, data\u001b[39m.\u001b[39mtext, data\u001b[39m.\u001b[39mbyte_order, mmap,\n\u001b[1;32m    406\u001b[0m                   known_list_len\u001b[39m=\u001b[39mknown_list_len\u001b[39m.\u001b[39mget(elt\u001b[39m.\u001b[39mname, {}))\n",
      "File \u001b[0;32m~/anaconda3/envs/yang_real/lib/python3.8/site-packages/plyfile.py:373\u001b[0m, in \u001b[0;36mPlyData._parse_header\u001b[0;34m(stream)\u001b[0m\n\u001b[1;32m    368\u001b[0m \u001b[39m'''\u001b[39;00m\n\u001b[1;32m    369\u001b[0m \u001b[39mParse a PLY header from a readable file-like stream.\u001b[39;00m\n\u001b[1;32m    370\u001b[0m \n\u001b[1;32m    371\u001b[0m \u001b[39m'''\u001b[39;00m\n\u001b[1;32m    372\u001b[0m parser \u001b[39m=\u001b[39m _PlyHeaderParser()\n\u001b[0;32m--> 373\u001b[0m \u001b[39mwhile\u001b[39;00m parser\u001b[39m.\u001b[39;49mconsume(stream\u001b[39m.\u001b[39;49mreadline()):\n\u001b[1;32m    374\u001b[0m     \u001b[39mpass\u001b[39;00m\n\u001b[1;32m    376\u001b[0m \u001b[39mreturn\u001b[39;00m PlyData(\n\u001b[1;32m    377\u001b[0m     [PlyElement(\u001b[39m*\u001b[39me) \u001b[39mfor\u001b[39;00m e \u001b[39min\u001b[39;00m parser\u001b[39m.\u001b[39melements],\n\u001b[1;32m    378\u001b[0m     parser\u001b[39m.\u001b[39mformat \u001b[39m==\u001b[39m \u001b[39m'\u001b[39m\u001b[39mascii\u001b[39m\u001b[39m'\u001b[39m,\n\u001b[0;32m   (...)\u001b[0m\n\u001b[1;32m    381\u001b[0m     parser\u001b[39m.\u001b[39mobj_info\n\u001b[1;32m    382\u001b[0m )\n",
      "File \u001b[0;32m~/anaconda3/envs/yang_real/lib/python3.8/site-packages/plyfile.py:120\u001b[0m, in \u001b[0;36m_PlyHeaderParser.consume\u001b[0;34m(self, raw_line)\u001b[0m\n\u001b[1;32m    117\u001b[0m \u001b[39mif\u001b[39;00m \u001b[39mnot\u001b[39;00m raw_line:\n\u001b[1;32m    118\u001b[0m     \u001b[39mself\u001b[39m\u001b[39m.\u001b[39m_error(\u001b[39m\"\u001b[39m\u001b[39mearly end-of-file\u001b[39m\u001b[39m\"\u001b[39m)\n\u001b[0;32m--> 120\u001b[0m line \u001b[39m=\u001b[39m raw_line\u001b[39m.\u001b[39;49mdecode(\u001b[39m'\u001b[39;49m\u001b[39mascii\u001b[39;49m\u001b[39m'\u001b[39;49m)\u001b[39m.\u001b[39mstrip()\n\u001b[1;32m    121\u001b[0m \u001b[39mtry\u001b[39;00m:\n\u001b[1;32m    122\u001b[0m     keyword \u001b[39m=\u001b[39m line\u001b[39m.\u001b[39msplit(\u001b[39mNone\u001b[39;00m, \u001b[39m1\u001b[39m)[\u001b[39m0\u001b[39m]\n",
      "\u001b[0;31mUnicodeDecodeError\u001b[0m: 'ascii' codec can't decode byte 0x95 in position 5: ordinal not in range(128)"
     ]
    }
   ],
   "source": [
    "read_ply(pc)"
   ]
  },
  {
   "cell_type": "code",
   "execution_count": 15,
   "metadata": {},
   "outputs": [
    {
     "name": "stdout",
     "output_type": "stream",
     "text": [
      "/data2/liyang/semantic_kitti_api-master/jupyters/../../semantic_kitti/predictions/sequences/08/ng/Open_world_3D_semantic_segmentation/runs/debug_original/model_epoch_30/point_predict/000000.label\n"
     ]
    }
   ],
   "source": [
    "\n",
    "data_root = join(file_root,'..','semantic_kitti')\n",
    "pred_dir = join(data_root,'predictions/sequences/08/ng/Open_world_3D_semantic_segmentation/runs/debug_original/model_epoch_30','point_predict')\n",
    "\n",
    "for l in os.listdir(pred_dir):\n",
    "    print(join(pred_dir,l))\n",
    "    break\n",
    "\n"
   ]
  },
  {
   "cell_type": "code",
   "execution_count": 16,
   "metadata": {},
   "outputs": [],
   "source": [
    "\n",
    "\n"
   ]
  },
  {
   "cell_type": "code",
   "execution_count": 18,
   "metadata": {},
   "outputs": [
    {
     "data": {
      "text/plain": [
       "(123389,)"
      ]
     },
     "execution_count": 18,
     "metadata": {},
     "output_type": "execute_result"
    }
   ],
   "source": [
    "data.shape"
   ]
  },
  {
   "cell_type": "code",
   "execution_count": 19,
   "metadata": {},
   "outputs": [
    {
     "data": {
      "text/plain": [
       "'000000.label'"
      ]
     },
     "execution_count": 19,
     "metadata": {},
     "output_type": "execute_result"
    }
   ],
   "source": [
    "l"
   ]
  },
  {
   "cell_type": "code",
   "execution_count": null,
   "metadata": {},
   "outputs": [],
   "source": []
  }
 ],
 "metadata": {
  "kernelspec": {
   "display_name": "yang_real",
   "language": "python",
   "name": "python3"
  },
  "language_info": {
   "codemirror_mode": {
    "name": "ipython",
    "version": 3
   },
   "file_extension": ".py",
   "mimetype": "text/x-python",
   "name": "python",
   "nbconvert_exporter": "python",
   "pygments_lexer": "ipython3",
   "version": "3.8.13"
  },
  "orig_nbformat": 4
 },
 "nbformat": 4,
 "nbformat_minor": 2
}
