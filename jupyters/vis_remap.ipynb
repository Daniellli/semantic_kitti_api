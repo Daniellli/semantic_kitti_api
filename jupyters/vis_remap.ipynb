{
 "cells": [
  {
   "cell_type": "code",
   "execution_count": 1,
   "metadata": {},
   "outputs": [],
   "source": [
    "import numpy as np\n",
    "import matplotlib.pyplot as plt\n",
    "from scipy.spatial.transform import Rotation as R\n",
    "from astropy import coordinates as ac\n",
    "import copy\n",
    "import torch\n",
    "\n",
    "import os \n",
    "from os.path import join, split,exists, isdir,isfile\n",
    "\n",
    "file_root =  join(os.getcwd(),'..')\n",
    "os.chdir(file_root)\n",
    "\n",
    "from utils.pc_utils import *\n",
    "from utils import * \n",
    "\n",
    "\n",
    "from utils.utils import * \n",
    "import numpy as np \n",
    "\n"
   ]
  },
  {
   "cell_type": "code",
   "execution_count": 9,
   "metadata": {},
   "outputs": [
    {
     "name": "stdout",
     "output_type": "stream",
     "text": [
      "[10 11 30 31 32 40 44 48 49 50 51 70 71 72 80 81] 16\n",
      "[10 18 30 40 44 48 49 50 51 70 71 72 80 81] 14\n",
      "[10 15 18 30 31 32 40 44 48 49 50 51 70 71 72 80 81] 17\n",
      "[10 15 18 30 40 44 48 49 50 51 70 71 72 80 81] 15\n",
      "[10 15 18 30 31 40 44 48 50 51 70 71 72 80 81] 15\n",
      "[10 18 30 31 32 40 44 48 49 50 51 70 71 72 80 81] 16\n",
      "[10 11 18 30 31 40 44 48 49 50 51 70 71 72 80 81] 16\n",
      "[10 18 30 31 40 44 48 49 50 51 70 71 72 80 81] 15\n",
      "[10 18 30 31 40 44 48 50 51 70 71 72 80 81] 14\n",
      "[10 18 30 31 40 44 48 50 51 70 71 72 80 81] 14\n",
      "[10 11 18 30 31 40 44 48 50 51 70 71 72 80 81] 15\n",
      "[10 18 30 40 44 48 50 51 70 71 72 80 81] 13\n",
      "[10 18 30 31 40 44 48 49 50 51 70 71 72 80 81] 15\n",
      "[10 15 18 30 40 44 48 50 51 70 71 72 80 81] 14\n",
      "[10 18 30 31 40 44 48 50 51 70 71 72 80 81] 14\n",
      "[10 18 30 31 40 44 48 50 51 70 71 72 80 81] 14\n",
      "[10 18 30 31 40 44 48 49 50 51 70 71 72 80 81] 15\n",
      "[10 18 30 31 40 44 48 49 50 51 70 71 72 80 81] 15\n",
      "[10 11 18 30 31 40 44 48 49 50 51 70 71 72 80 81] 16\n",
      "[10 11 15 18 30 31 40 44 48 49 50 51 70 71 72 80 81] 17\n",
      "[10 18 30 31 40 44 48 49 50 51 70 71 72 80 81] 15\n",
      "[10 18 30 31 40 44 48 49 50 51 70 71 72 80 81] 15\n",
      "[10 18 30 31 40 44 48 49 50 51 70 71 72 80 81] 15\n",
      "[10 11 15 18 30 31 40 44 48 50 51 70 71 72 80 81] 16\n",
      "[10 15 18 30 31 40 44 48 50 51 70 71 72 80 81] 15\n",
      "[10 11 18 30 31 40 44 48 49 50 51 70 71 72 80 81] 16\n",
      "[10 11 18 30 31 40 44 48 49 50 51 70 71 72 80 81] 16\n",
      "[10 11 18 30 31 40 44 48 50 51 70 71 72 80 81] 15\n",
      "[10 11 18 30 31 40 44 48 49 50 51 70 71 72 80 81] 16\n",
      "[10 18 30 40 44 48 49 50 51 70 71 72 80 81] 14\n",
      "[10 18 30 31 40 44 48 50 51 70 71 72 80 81] 14\n",
      "[10 15 18 30 31 40 44 48 50 51 70 71 72 80 81] 15\n",
      "[10 18 30 31 40 44 48 50 51 70 71 72 80 81] 14\n",
      "[10 18 30 31 40 44 48 50 51 70 71 72 80 81] 14\n",
      "[10 15 18 30 31 40 44 48 50 51 70 71 72 80 81] 15\n",
      "[10 11 18 30 31 40 44 48 50 51 70 71 72 80 81] 15\n",
      "[10 18 30 31 40 44 48 50 51 70 71 72 80 81] 14\n",
      "[10 11 15 18 30 31 40 44 48 50 51 70 71 72 80 81] 16\n",
      "[10 18 30 31 40 44 48 50 51 70 71 72 80 81] 14\n",
      "[10 11 15 18 30 31 40 44 48 50 51 70 71 72 80 81] 16\n",
      "[10 11 18 30 31 40 44 48 50 51 70 71 72 80 81] 15\n",
      "[10 11 18 30 31 40 44 48 50 51 70 71 72 80 81] 15\n",
      "[10 18 30 31 40 44 48 49 50 51 70 71 72 80 81] 15\n",
      "[10 11 15 18 30 31 40 44 48 50 51 70 71 72 80 81] 16\n",
      "[10 18 30 31 40 44 48 49 50 51 70 71 72 80 81] 15\n",
      "[10 11 18 30 31 40 44 48 50 51 70 71 72 80 81] 15\n",
      "[10 18 30 31 40 44 48 49 50 51 70 71 72 80 81] 15\n"
     ]
    }
   ],
   "source": [
    "\n",
    "class PredictionLoader:\n",
    "\n",
    "    def __init__(self,root):\n",
    "        self.root = root\n",
    "        \n",
    "\n",
    "        self.pc_pred_path = join(root,'point_predict')\n",
    "        self.pc_pred_list = sorted(os.listdir(self.pc_pred_path))\n",
    "\n",
    "        self.uncertainty_path = join(root,'uncertainty')\n",
    "        self.uncertainty_list = sorted(os.listdir(self.uncertainty_path))\n",
    "\n",
    "        self.name_list = [x.split('.')[0] for x in self.uncertainty_list]\n",
    "\n",
    "        assert len(self.uncertainty_list) == len(self.pc_pred_list )\n",
    "\n",
    "    def __len__(self):\n",
    "        return len(self.uncertainty_list)\n",
    "    \n",
    "    \n",
    "    def name2idx(self,name):\n",
    "        return self.name_list.index(name)\n",
    "    \n",
    "    def idx2name(self,idx):\n",
    "        return self.name_list[idx]\n",
    "\n",
    "    def __getitem__(self,idx):\n",
    "\n",
    "        return np.fromfile(join(self.pc_pred_path,self.pc_pred_list[idx]), dtype=np.uint32),\\\n",
    "             np.fromfile(join(self.uncertainty_path,self.uncertainty_list[idx]), dtype=np.uint32)\n",
    "        \n",
    "        \n",
    "    def tmp(self):\n",
    "        pc_pred ,uncertainty= self.__getitem__(0)\n",
    "        \n",
    "        print(np.unique(pc_pred),len(np.unique(pc_pred)))\n",
    "\n",
    "    \n",
    "\n",
    "\n",
    "prediction_root = '/data1/liyang/semantic_kitti_api-master/datasets/predictions/sequences/08/n19_four_losses_with_shapenet_anomaly'\n",
    "\n",
    "\n",
    "\n",
    "\n",
    "\n",
    "\n",
    "epoch_names= sorted(os.listdir(prediction_root),key=lambda k: int(k.split('_')[-1]))\n",
    "\n",
    "for epoch_name in epoch_names:\n",
    "    loader = PredictionLoader(join(prediction_root,epoch_name))\n",
    "    loader.tmp()\n",
    "\n",
    "\n",
    "\n",
    "\n"
   ]
  },
  {
   "cell_type": "code",
   "execution_count": 3,
   "metadata": {},
   "outputs": [],
   "source": [
    "pc_pred, uncertainty=loader.__getitem__(0)"
   ]
  },
  {
   "cell_type": "code",
   "execution_count": null,
   "metadata": {},
   "outputs": [],
   "source": []
  },
  {
   "cell_type": "code",
   "execution_count": null,
   "metadata": {},
   "outputs": [],
   "source": []
  },
  {
   "attachments": {},
   "cell_type": "markdown",
   "metadata": {},
   "source": [
    "## check label "
   ]
  },
  {
   "cell_type": "code",
   "execution_count": 15,
   "metadata": {},
   "outputs": [],
   "source": [
    "from entity.semantic_kitti_gt_loader import SementicKittiGtLoader\n",
    "\n",
    "gt_loader = SementicKittiGtLoader('datasets/dataset','08')\n",
    "\n"
   ]
  },
  {
   "cell_type": "code",
   "execution_count": 16,
   "metadata": {},
   "outputs": [
    {
     "name": "stdout",
     "output_type": "stream",
     "text": [
      "000000.label\n"
     ]
    }
   ],
   "source": [
    "label = gt_loader.get_label(0)"
   ]
  },
  {
   "cell_type": "code",
   "execution_count": 18,
   "metadata": {},
   "outputs": [
    {
     "data": {
      "text/plain": [
       "(array([       0,        1,       30,       40,       44,       48,\n",
       "              50,       51,       52,       70,       71,       72,\n",
       "              80,       81,       99,    65788,    65790,   131324,\n",
       "          131326,   196860,   196862,   589854,   983070,  1572875,\n",
       "         1638411, 12713994, 12779530, 12845066, 12976138], dtype=uint32),\n",
       " 123389)"
      ]
     },
     "execution_count": 18,
     "metadata": {},
     "output_type": "execute_result"
    }
   ],
   "source": [
    "np.unique(label),len(label)"
   ]
  }
 ],
 "metadata": {
  "kernelspec": {
   "display_name": "yang_real",
   "language": "python",
   "name": "python3"
  },
  "language_info": {
   "codemirror_mode": {
    "name": "ipython",
    "version": 3
   },
   "file_extension": ".py",
   "mimetype": "text/x-python",
   "name": "python",
   "nbconvert_exporter": "python",
   "pygments_lexer": "ipython3",
   "version": "3.8.13"
  },
  "orig_nbformat": 4
 },
 "nbformat": 4,
 "nbformat_minor": 2
}
